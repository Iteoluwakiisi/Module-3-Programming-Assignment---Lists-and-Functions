{
 "cells": [
  {
   "cell_type": "code",
   "execution_count": 1,
   "id": "6110cd51-a2b5-473c-8d3d-5b42aed50189",
   "metadata": {},
   "outputs": [
    {
     "name": "stdout",
     "output_type": "stream",
     "text": [
      "['mozzarella', 'Cinderella', 'salmonella']\n"
     ]
    }
   ],
   "source": [
    "things = [\"mozzarella\", \"cinderella\", \"salmonella\"]\n",
    "things[1] = things[1].capitalize()  # To capitalize the element that refers to a person \"cinderella\"\n",
    "print(things)  # Print the updated list"
   ]
  },
  {
   "cell_type": "code",
   "execution_count": 2,
   "id": "998ddc84-352a-4cb0-ba20-86f094ea8a93",
   "metadata": {},
   "outputs": [
    {
     "name": "stdout",
     "output_type": "stream",
     "text": [
      "['MOZZARELLA', 'Cinderella', 'salmonella']\n"
     ]
    }
   ],
   "source": [
    "things[0] = things[0].upper()  # To make the cheesy element \"mozzarella\" all uppercase \n",
    "print(things)  # Print the updated list"
   ]
  },
  {
   "cell_type": "code",
   "execution_count": 3,
   "id": "2aee9992-abf1-4dcc-87a8-d3b36f190019",
   "metadata": {},
   "outputs": [
    {
     "name": "stdout",
     "output_type": "stream",
     "text": [
      "['MOZZARELLA', 'Cinderella']\n"
     ]
    }
   ],
   "source": [
    "del things[2]  # To delete the disease element \"salmonella\"\n",
    "print(things)  # Print the updated list"
   ]
  },
  {
   "cell_type": "raw",
   "id": "600fb06b-af03-45d7-a2de-4bc92840aab6",
   "metadata": {},
   "source": []
  },
  {
   "cell_type": "raw",
   "id": "5a660880-f35b-4df2-bdc8-102135284c9e",
   "metadata": {},
   "source": [
    "SOLUTION TO CHAPTER 9 ASSIGNMENT"
   ]
  },
  {
   "cell_type": "code",
   "execution_count": 5,
   "id": "08e8417a-3c20-4254-bd45-26f9a35a1b98",
   "metadata": {},
   "outputs": [
    {
     "name": "stdout",
     "output_type": "stream",
     "text": [
      "['Harry', 'Ron', 'Hermione']\n"
     ]
    }
   ],
   "source": [
    "def good(): # To define a function called \"good\n",
    "    return ['Harry', 'Ron', 'Hermione']\n",
    "# Call the function to check the result\n",
    "print(good())"
   ]
  },
  {
   "cell_type": "code",
   "execution_count": 6,
   "id": "cfa044f2-481e-490f-9031-c99181b43dec",
   "metadata": {},
   "outputs": [
    {
     "name": "stdout",
     "output_type": "stream",
     "text": [
      "5\n"
     ]
    }
   ],
   "source": [
    "def get_odds():\n",
    "    for num in range(10):\n",
    "        if num % 2 != 0:  # Only return odd numbers\n",
    "            yield num\n",
    "# Using a for loop to find and print the third value\n",
    "count = 0\n",
    "for odd in get_odds():\n",
    "    count += 1\n",
    "    if count == 3:\n",
    "        print(odd)  # Print the third odd number\n",
    "        break"
   ]
  },
  {
   "cell_type": "code",
   "execution_count": null,
   "id": "6486ba81-48a6-48d9-b925-57ac5befcf75",
   "metadata": {},
   "outputs": [],
   "source": []
  }
 ],
 "metadata": {
  "kernelspec": {
   "display_name": "Python 3 (ipykernel)",
   "language": "python",
   "name": "python3"
  },
  "language_info": {
   "codemirror_mode": {
    "name": "ipython",
    "version": 3
   },
   "file_extension": ".py",
   "mimetype": "text/x-python",
   "name": "python",
   "nbconvert_exporter": "python",
   "pygments_lexer": "ipython3",
   "version": "3.12.4"
  }
 },
 "nbformat": 4,
 "nbformat_minor": 5
}
